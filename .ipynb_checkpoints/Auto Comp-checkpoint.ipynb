{
 "cells": [
  {
   "cell_type": "code",
   "execution_count": 1,
   "metadata": {},
   "outputs": [
    {
     "name": "stdout",
     "output_type": "stream",
     "text": [
      "Collecting PyAutoGUI\n",
      "\u001b[?25l  Downloading https://files.pythonhosted.org/packages/19/ef/438d80abd396fd2d124bd37c07c765f913723c54197c4c809d85c8ff5a43/PyAutoGUI-0.9.41.tar.gz (50kB)\n",
      "\u001b[K    100% |████████████████████████████████| 51kB 4.3MB/s ta 0:00:01\n",
      "\u001b[?25hCollecting pymsgbox (from PyAutoGUI)\n",
      "  Downloading https://files.pythonhosted.org/packages/b6/65/86379ede1db26c40e7972d7a41c69cdf12cc6a0f143749aabf67ab8a41a1/PyMsgBox-1.0.6.zip\n",
      "Collecting PyTweening>=1.0.1 (from PyAutoGUI)\n",
      "  Downloading https://files.pythonhosted.org/packages/b9/f8/c32a58d6e4dff8aa5c27e907194d69f3b57e525c2e4af96f39c6e9c854d2/PyTweening-1.0.3.zip\n",
      "Requirement already satisfied: Pillow in /anaconda3/lib/python3.6/site-packages (from PyAutoGUI) (5.0.0)\n",
      "Collecting pyscreeze (from PyAutoGUI)\n",
      "  Downloading https://files.pythonhosted.org/packages/f3/27/073bf07400943e38b06ba40def60ec489d114fd7356c2db5a2f793454312/PyScreeze-0.1.19.tar.gz\n",
      "Collecting pygetwindow (from PyAutoGUI)\n",
      "  Downloading https://files.pythonhosted.org/packages/f1/54/740939161eb3471e8f775ce9b0fcac0e54c36bf63501e51f2cd7158f587d/PyGetWindow-0.0.3.tar.gz\n",
      "Collecting pyrect (from pygetwindow->PyAutoGUI)\n",
      "  Downloading https://files.pythonhosted.org/packages/2f/68/bd7bf96fc44217e769f27912e6c9bb3e9987cba286054af6120448ce8212/PyRect-0.1.4.tar.gz\n",
      "Building wheels for collected packages: PyAutoGUI, pymsgbox, PyTweening, pyscreeze, pygetwindow, pyrect\n",
      "  Running setup.py bdist_wheel for PyAutoGUI ... \u001b[?25ldone\n",
      "\u001b[?25h  Stored in directory: /Users/RobBosshard/Library/Caches/pip/wheels/0a/a4/32/a6505c3bcbebcd517faa8e6636a5c8b9e26282ea6e5c383a60\n",
      "  Running setup.py bdist_wheel for pymsgbox ... \u001b[?25ldone\n",
      "\u001b[?25h  Stored in directory: /Users/RobBosshard/Library/Caches/pip/wheels/61/52/a7/48714fe44cc4606c6e08280d6d655dd6d790cec126928e4ffc\n",
      "  Running setup.py bdist_wheel for PyTweening ... \u001b[?25ldone\n",
      "\u001b[?25h  Stored in directory: /Users/RobBosshard/Library/Caches/pip/wheels/7b/92/30/06e21159eed2709436bfb6d7c690959e578cf74f029643866e\n",
      "  Running setup.py bdist_wheel for pyscreeze ... \u001b[?25ldone\n",
      "\u001b[?25h  Stored in directory: /Users/RobBosshard/Library/Caches/pip/wheels/74/e7/a0/546b5f4626893424cfdff9513ded69aceacdf11df4fbe80daa\n",
      "  Running setup.py bdist_wheel for pygetwindow ... \u001b[?25ldone\n",
      "\u001b[?25h  Stored in directory: /Users/RobBosshard/Library/Caches/pip/wheels/1d/22/a5/d53673fbbedada3ee0741796172f5cf6947ae4ba333055e47e\n",
      "  Running setup.py bdist_wheel for pyrect ... \u001b[?25ldone\n",
      "\u001b[?25h  Stored in directory: /Users/RobBosshard/Library/Caches/pip/wheels/3e/61/83/8fd1478e984f7378e57972f5fd9bb0dbffc349fefc9efa5bf9\n",
      "Successfully built PyAutoGUI pymsgbox PyTweening pyscreeze pygetwindow pyrect\n",
      "Installing collected packages: pymsgbox, PyTweening, pyscreeze, pyrect, pygetwindow, PyAutoGUI\n",
      "Successfully installed PyAutoGUI-0.9.41 PyTweening-1.0.3 pygetwindow-0.0.3 pymsgbox-1.0.6 pyrect-0.1.4 pyscreeze-0.1.19\n"
     ]
    }
   ],
   "source": [
    "!pip install PyAutoGUI"
   ]
  },
  {
   "cell_type": "code",
   "execution_count": 10,
   "metadata": {},
   "outputs": [],
   "source": [
    "import pyautogui\n",
    "screenWidth, screenHeight = pyautogui.size()\n",
    "currentMouseX, currentMouseY = pyautogui.position()"
   ]
  },
  {
   "cell_type": "code",
   "execution_count": 11,
   "metadata": {},
   "outputs": [],
   "source": [
    "pyautogui.moveTo(screenWidth / 2, screenHeight / 2)"
   ]
  },
  {
   "cell_type": "code",
   "execution_count": null,
   "metadata": {},
   "outputs": [],
   "source": [
    "i = 0\n",
    "\n",
    "while i < 10:   \n",
    "    \n",
    "    pyautogui.moveTo(1000, 850) #open game\n",
    "    pyautogui.click()\n",
    "    pyautogui.moveTo(600, 450) #mine runite\n",
    "    pyautogui.click()\n",
    "    pyautogui.moveTo(430, 175) #climb ladder\n",
    "    pyautogui.click()\n",
    "    pyautogui.PAUSE = 7\n",
    "    pyautogui.moveTo(920, 230) #enter smith house\n",
    "    pyautogui.click()\n",
    "    pyautogui.PAUSE = 3\n",
    "    pyautogui.moveTo(550, 650) #open ore box\n",
    "    pyautogui.click()\n",
    "    pyautogui.PAUSE = 0.5\n",
    "    pyautogui.moveTo(200, 500) #deposit ores\n",
    "    pyautogui.click()\n",
    "    pyautogui.moveTo(895, 110) #mining guild ladder\n",
    "    pyautogui.click()\n",
    "    pyautogui.PAUSE = 7\n",
    "    pyautogui.moveTo(600, 200)\n",
    "    pyautogui.click()\n",
    "    pyautogui.PAUSE = 3\n",
    "    pyautogui.moveTo(920, 230) #mine runite\n",
    "    pyautogui.click()\n",
    "    pyautogui.PAUSE = 4\n",
    "    pyautogui.moveTo(630, 350)\n",
    "    pyautogui.click()\n",
    "    pyautogui.PAUSE = 200\n",
    "    \n",
    "    i += 1"
   ]
  },
  {
   "cell_type": "code",
   "execution_count": 29,
   "metadata": {},
   "outputs": [],
   "source": [
    "pyautogui.moveRel(None, 10)\n",
    "pyautogui.PAUSE = 0.5\n",
    "pyautogui.click()\n",
    "pyautogui.keyDown(\"down\")\n",
    "pyautogui.PAUSE = 0.5\n",
    "pyautogui.keyUp(\"down\")"
   ]
  },
  {
   "cell_type": "code",
   "execution_count": 110,
   "metadata": {},
   "outputs": [],
   "source": [
    "i = 5"
   ]
  },
  {
   "cell_type": "code",
   "execution_count": 112,
   "metadata": {},
   "outputs": [
    {
     "name": "stdout",
     "output_type": "stream",
     "text": [
      "0\n",
      "1\n",
      "2\n",
      "3\n",
      "4\n"
     ]
    }
   ],
   "source": [
    "for i in range (0,5):\n",
    "    print(i)"
   ]
  },
  {
   "cell_type": "code",
   "execution_count": 113,
   "metadata": {},
   "outputs": [
    {
     "name": "stdout",
     "output_type": "stream",
     "text": [
      "0\n",
      "1\n"
     ]
    }
   ],
   "source": [
    "i = 0\n",
    "\n",
    "while i < 2:\n",
    "    print(i)\n",
    "    i += 1"
   ]
  },
  {
   "cell_type": "code",
   "execution_count": null,
   "metadata": {},
   "outputs": [],
   "source": []
  }
 ],
 "metadata": {
  "kernelspec": {
   "display_name": "Python 3",
   "language": "python",
   "name": "python3"
  },
  "language_info": {
   "codemirror_mode": {
    "name": "ipython",
    "version": 3
   },
   "file_extension": ".py",
   "mimetype": "text/x-python",
   "name": "python",
   "nbconvert_exporter": "python",
   "pygments_lexer": "ipython3",
   "version": "3.6.4"
  }
 },
 "nbformat": 4,
 "nbformat_minor": 2
}
